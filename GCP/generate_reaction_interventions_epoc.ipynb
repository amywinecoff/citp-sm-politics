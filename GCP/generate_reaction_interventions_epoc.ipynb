{
  "nbformat": 4,
  "nbformat_minor": 0,
  "metadata": {
    "colab": {
      "name": "write_intervention_table.ipynb",
      "provenance": []
    },
    "kernelspec": {
      "name": "python3",
      "display_name": "Python 3"
    },
    "language_info": {
      "name": "python"
    }
  },
  "cells": [
    {
      "cell_type": "code",
      "metadata": {
        "colab": {
          "base_uri": "https://localhost:8080/"
        },
        "id": "EKdYtclZPP3B",
        "outputId": "492a6fd6-a92d-4c79-e078-7538325b2cfa"
      },
      "source": [
        "!pip install gcsfs"
      ],
      "execution_count": null,
      "outputs": [
        {
          "output_type": "stream",
          "text": [
            "Collecting gcsfs\n",
            "  Downloading https://files.pythonhosted.org/packages/cd/a1/f7e7843b89d7a097969ccb3b4f53d626108a73f31c2979e773ce4431ea2d/gcsfs-2021.4.0-py2.py3-none-any.whl\n",
            "Requirement already satisfied: google-auth>=1.2 in /usr/local/lib/python3.7/dist-packages (from gcsfs) (1.28.1)\n",
            "Collecting fsspec==2021.04.0\n",
            "\u001b[?25l  Downloading https://files.pythonhosted.org/packages/e9/91/2ef649137816850fa4f4c97c6f2eabb1a79bf0aa2c8ed198e387e373455e/fsspec-2021.4.0-py3-none-any.whl (108kB)\n",
            "\u001b[K     |████████████████████████████████| 112kB 34.5MB/s \n",
            "\u001b[?25hRequirement already satisfied: requests in /usr/local/lib/python3.7/dist-packages (from gcsfs) (2.23.0)\n",
            "Requirement already satisfied: decorator in /usr/local/lib/python3.7/dist-packages (from gcsfs) (4.4.2)\n",
            "Requirement already satisfied: google-auth-oauthlib in /usr/local/lib/python3.7/dist-packages (from gcsfs) (0.4.4)\n",
            "Collecting aiohttp\n",
            "\u001b[?25l  Downloading https://files.pythonhosted.org/packages/88/c0/5890b4c8b04a79b7360e8fe4490feb0bb3ab179743f199f0e6220cebd568/aiohttp-3.7.4.post0-cp37-cp37m-manylinux2014_x86_64.whl (1.3MB)\n",
            "\u001b[K     |████████████████████████████████| 1.3MB 25.5MB/s \n",
            "\u001b[?25hRequirement already satisfied: cachetools<5.0,>=2.0.0 in /usr/local/lib/python3.7/dist-packages (from google-auth>=1.2->gcsfs) (4.2.1)\n",
            "Requirement already satisfied: setuptools>=40.3.0 in /usr/local/lib/python3.7/dist-packages (from google-auth>=1.2->gcsfs) (56.1.0)\n",
            "Requirement already satisfied: six>=1.9.0 in /usr/local/lib/python3.7/dist-packages (from google-auth>=1.2->gcsfs) (1.15.0)\n",
            "Requirement already satisfied: rsa<5,>=3.1.4; python_version >= \"3.6\" in /usr/local/lib/python3.7/dist-packages (from google-auth>=1.2->gcsfs) (4.7.2)\n",
            "Requirement already satisfied: pyasn1-modules>=0.2.1 in /usr/local/lib/python3.7/dist-packages (from google-auth>=1.2->gcsfs) (0.2.8)\n",
            "Requirement already satisfied: certifi>=2017.4.17 in /usr/local/lib/python3.7/dist-packages (from requests->gcsfs) (2020.12.5)\n",
            "Requirement already satisfied: idna<3,>=2.5 in /usr/local/lib/python3.7/dist-packages (from requests->gcsfs) (2.10)\n",
            "Requirement already satisfied: urllib3!=1.25.0,!=1.25.1,<1.26,>=1.21.1 in /usr/local/lib/python3.7/dist-packages (from requests->gcsfs) (1.24.3)\n",
            "Requirement already satisfied: chardet<4,>=3.0.2 in /usr/local/lib/python3.7/dist-packages (from requests->gcsfs) (3.0.4)\n",
            "Requirement already satisfied: requests-oauthlib>=0.7.0 in /usr/local/lib/python3.7/dist-packages (from google-auth-oauthlib->gcsfs) (1.3.0)\n",
            "Collecting yarl<2.0,>=1.0\n",
            "\u001b[?25l  Downloading https://files.pythonhosted.org/packages/f1/62/046834c5fc998c88ab2ef722f5d42122230a632212c8afa76418324f53ff/yarl-1.6.3-cp37-cp37m-manylinux2014_x86_64.whl (294kB)\n",
            "\u001b[K     |████████████████████████████████| 296kB 40.5MB/s \n",
            "\u001b[?25hCollecting multidict<7.0,>=4.5\n",
            "\u001b[?25l  Downloading https://files.pythonhosted.org/packages/7c/a6/4123b8165acbe773d1a8dc8e3f0d1edea16d29f7de018eda769abb56bd30/multidict-5.1.0-cp37-cp37m-manylinux2014_x86_64.whl (142kB)\n",
            "\u001b[K     |████████████████████████████████| 143kB 49.3MB/s \n",
            "\u001b[?25hRequirement already satisfied: attrs>=17.3.0 in /usr/local/lib/python3.7/dist-packages (from aiohttp->gcsfs) (20.3.0)\n",
            "Collecting async-timeout<4.0,>=3.0\n",
            "  Downloading https://files.pythonhosted.org/packages/e1/1e/5a4441be21b0726c4464f3f23c8b19628372f606755a9d2e46c187e65ec4/async_timeout-3.0.1-py3-none-any.whl\n",
            "Requirement already satisfied: typing-extensions>=3.6.5 in /usr/local/lib/python3.7/dist-packages (from aiohttp->gcsfs) (3.7.4.3)\n",
            "Requirement already satisfied: pyasn1>=0.1.3 in /usr/local/lib/python3.7/dist-packages (from rsa<5,>=3.1.4; python_version >= \"3.6\"->google-auth>=1.2->gcsfs) (0.4.8)\n",
            "Requirement already satisfied: oauthlib>=3.0.0 in /usr/local/lib/python3.7/dist-packages (from requests-oauthlib>=0.7.0->google-auth-oauthlib->gcsfs) (3.1.0)\n",
            "Installing collected packages: fsspec, multidict, yarl, async-timeout, aiohttp, gcsfs\n",
            "Successfully installed aiohttp-3.7.4.post0 async-timeout-3.0.1 fsspec-2021.4.0 gcsfs-2021.4.0 multidict-5.1.0 yarl-1.6.3\n"
          ],
          "name": "stdout"
        }
      ]
    },
    {
      "cell_type": "code",
      "metadata": {
        "id": "6C4lfLHCPVDm"
      },
      "source": [
        "import os\n",
        "from google.cloud import bigquery as bq\n",
        "from google.cloud import storage\n",
        "from google.colab import auth\n",
        "import csv\n",
        "import pandas as pd\n",
        "import string\n",
        "import gcsfs\n",
        "import calendar\n",
        "import datetime as dt"
      ],
      "execution_count": null,
      "outputs": []
    },
    {
      "cell_type": "code",
      "metadata": {
        "colab": {
          "base_uri": "https://localhost:8080/"
        },
        "id": "f1_sFTU5PXlx",
        "outputId": "ae4b21dd-0622-4eb6-8a5c-08c6bec721af"
      },
      "source": [
        "auth.authenticate_user()\n",
        "\n",
        "project_id = 'citp-sm-reactions'\n",
        "!gcloud config set project {project_id}"
      ],
      "execution_count": null,
      "outputs": [
        {
          "output_type": "stream",
          "text": [
            "Updated property [core/project].\n"
          ],
          "name": "stdout"
        }
      ]
    },
    {
      "cell_type": "code",
      "metadata": {
        "colab": {
          "base_uri": "https://localhost:8080/"
        },
        "id": "zrnsl4vwe0pM",
        "outputId": "fb81c1ce-a6ee-441e-e882-250158a43513"
      },
      "source": [
        "from google.colab import drive\n",
        "drive.mount('/content/gdrive')"
      ],
      "execution_count": null,
      "outputs": [
        {
          "output_type": "stream",
          "text": [
            "Mounted at /content/gdrive\n"
          ],
          "name": "stdout"
        }
      ]
    },
    {
      "cell_type": "code",
      "metadata": {
        "id": "yDDWbg07PeFF"
      },
      "source": [
        "os.environ[\"GCLOUD_PROJECT\"] = \"citp-sm-reactions\"\n",
        "table_id = \"citp-sm-reactions.reddit_clean_comments.reaction_interventions_epoc\"\n",
        "\n",
        "bq_client = bq.Client()\n",
        "\n"
      ],
      "execution_count": null,
      "outputs": []
    },
    {
      "cell_type": "code",
      "metadata": {
        "id": "giSLKwwjP5bH"
      },
      "source": [
        "job_config = bq.LoadJobConfig(\n",
        "    schema=[\n",
        "        bq.SchemaField(\"subreddit\", bq.enums.SqlTypeNames.STRING),\n",
        "        bq.SchemaField(\"intervention\", bq.enums.SqlTypeNames.STRING),\n",
        "        bq.SchemaField(\"start_date\", bq.enums.SqlTypeNames.TIMESTAMP),\n",
        "        bq.SchemaField(\"end_date\", bq.enums.SqlTypeNames.TIMESTAMP),\n",
        "    ],\n",
        ")\n"
      ],
      "execution_count": null,
      "outputs": []
    },
    {
      "cell_type": "code",
      "metadata": {
        "id": "yWJRmpfQw4UW"
      },
      "source": [
        "os.chdir('/content/gdrive/MyDrive/reddit/etl')"
      ],
      "execution_count": null,
      "outputs": []
    },
    {
      "cell_type": "code",
      "metadata": {
        "colab": {
          "base_uri": "https://localhost:8080/",
          "height": 206
        },
        "id": "R5N9k1_jfOvv",
        "outputId": "52a9db0e-2cf9-49a3-f066-71335a15c589"
      },
      "source": [
        "intervention_df=pd.read_csv('reddit_interventions.csv')[['subreddit', 'intervention', 'start_date', 'end_date']]\n",
        "intervention_df['start_date']=pd.to_datetime(intervention_df['start_date'])\n",
        "intervention_df['end_date']=pd.to_datetime(intervention_df['end_date'])\n",
        "\n",
        "intervention_df['start_date_unix_epoc']=((intervention_df['start_date'] - dt.datetime(1970,1,1)).dt.total_seconds()).astype(int)\n",
        "intervention_df['end_date_unix_epoc']=((intervention_df['end_date'] - dt.datetime(1970,1,1)).dt.total_seconds()).astype(int)\n",
        "intervention_df.head()"
      ],
      "execution_count": null,
      "outputs": [
        {
          "output_type": "execute_result",
          "data": {
            "text/html": [
              "<div>\n",
              "<style scoped>\n",
              "    .dataframe tbody tr th:only-of-type {\n",
              "        vertical-align: middle;\n",
              "    }\n",
              "\n",
              "    .dataframe tbody tr th {\n",
              "        vertical-align: top;\n",
              "    }\n",
              "\n",
              "    .dataframe thead th {\n",
              "        text-align: right;\n",
              "    }\n",
              "</style>\n",
              "<table border=\"1\" class=\"dataframe\">\n",
              "  <thead>\n",
              "    <tr style=\"text-align: right;\">\n",
              "      <th></th>\n",
              "      <th>subreddit</th>\n",
              "      <th>intervention</th>\n",
              "      <th>start_date</th>\n",
              "      <th>end_date</th>\n",
              "      <th>start_date_unix_epoc</th>\n",
              "      <th>end_date_unix_epoc</th>\n",
              "    </tr>\n",
              "  </thead>\n",
              "  <tbody>\n",
              "    <tr>\n",
              "      <th>0</th>\n",
              "      <td>Conservative</td>\n",
              "      <td>baseline</td>\n",
              "      <td>2012-12-31</td>\n",
              "      <td>2013-10-31</td>\n",
              "      <td>1356912000</td>\n",
              "      <td>1383177600</td>\n",
              "    </tr>\n",
              "    <tr>\n",
              "      <th>1</th>\n",
              "      <td>Conservative</td>\n",
              "      <td>upvote_only</td>\n",
              "      <td>2013-11-01</td>\n",
              "      <td>2014-06-30</td>\n",
              "      <td>1383264000</td>\n",
              "      <td>1404086400</td>\n",
              "    </tr>\n",
              "    <tr>\n",
              "      <th>2</th>\n",
              "      <td>Conservative</td>\n",
              "      <td>no_votes</td>\n",
              "      <td>2014-07-01</td>\n",
              "      <td>2018-01-01</td>\n",
              "      <td>1404172800</td>\n",
              "      <td>1514764800</td>\n",
              "    </tr>\n",
              "    <tr>\n",
              "      <th>3</th>\n",
              "      <td>exmuslim</td>\n",
              "      <td>baseline</td>\n",
              "      <td>2010-01-01</td>\n",
              "      <td>2011-07-31</td>\n",
              "      <td>1262304000</td>\n",
              "      <td>1312070400</td>\n",
              "    </tr>\n",
              "    <tr>\n",
              "      <th>4</th>\n",
              "      <td>exmuslim</td>\n",
              "      <td>upvote_only</td>\n",
              "      <td>2011-08-01</td>\n",
              "      <td>2018-01-01</td>\n",
              "      <td>1312156800</td>\n",
              "      <td>1514764800</td>\n",
              "    </tr>\n",
              "  </tbody>\n",
              "</table>\n",
              "</div>"
            ],
            "text/plain": [
              "      subreddit intervention  ... start_date_unix_epoc end_date_unix_epoc\n",
              "0  Conservative     baseline  ...           1356912000         1383177600\n",
              "1  Conservative  upvote_only  ...           1383264000         1404086400\n",
              "2  Conservative     no_votes  ...           1404172800         1514764800\n",
              "3      exmuslim     baseline  ...           1262304000         1312070400\n",
              "4      exmuslim  upvote_only  ...           1312156800         1514764800\n",
              "\n",
              "[5 rows x 6 columns]"
            ]
          },
          "metadata": {
            "tags": []
          },
          "execution_count": 26
        }
      ]
    },
    {
      "cell_type": "code",
      "metadata": {
        "colab": {
          "base_uri": "https://localhost:8080/"
        },
        "id": "BYwr-9yjQSQl",
        "outputId": "e78d96ca-2c34-4273-c94f-b902a33eb3b8"
      },
      "source": [
        ""
      ],
      "execution_count": null,
      "outputs": [
        {
          "output_type": "execute_result",
          "data": {
            "text/plain": [
              "Timestamp('2012-12-31 00:00:00')"
            ]
          },
          "metadata": {
            "tags": []
          },
          "execution_count": 18
        }
      ]
    },
    {
      "cell_type": "code",
      "metadata": {
        "colab": {
          "base_uri": "https://localhost:8080/"
        },
        "id": "rkvbTYRoSYm3",
        "outputId": "d3d346a4-0933-4090-e988-e620fe74d686"
      },
      "source": [
        "job = bq_client.load_table_from_dataframe(intervention_df, table_id, job_config=job_config)  # Make an API request.\n",
        "job.result() \n",
        "\n",
        "table = bq_client.get_table(table_id)  # Make an API request.\n",
        "print(\"Loaded {} rows and {} columns to {}\".format(\n",
        "                table.num_rows, len(table.schema), table_id\n",
        "            )\n",
        "        )"
      ],
      "execution_count": null,
      "outputs": [
        {
          "output_type": "stream",
          "text": [
            "Loaded 30 rows and 6 columns to citp-sm-reactions.reddit_clean_comments.reaction_interventions_epoc\n"
          ],
          "name": "stdout"
        }
      ]
    },
    {
      "cell_type": "code",
      "metadata": {
        "id": "VdvSjF_QSqXG"
      },
      "source": [
        ""
      ],
      "execution_count": null,
      "outputs": []
    }
  ]
}